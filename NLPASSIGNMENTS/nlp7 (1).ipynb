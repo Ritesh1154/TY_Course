{
  "nbformat": 4,
  "nbformat_minor": 0,
  "metadata": {
    "colab": {
      "provenance": []
    },
    "kernelspec": {
      "name": "python3",
      "display_name": "Python 3"
    },
    "language_info": {
      "name": "python"
    }
  },
  "cells": [
    {
      "cell_type": "code",
      "execution_count": null,
      "metadata": {
        "id": "Y8Ue64TqrwFa"
      },
      "outputs": [],
      "source": [
        "# Auto-complete Algorithm Using N-gram Model in Google Colab\n"
      ]
    },
    {
      "cell_type": "code",
      "source": [
        "import nltk\n",
        "from nltk.util import ngrams\n",
        "from collections import defaultdict, Counter\n",
        "import random"
      ],
      "metadata": {
        "id": "3bgNyw_psOk1"
      },
      "execution_count": null,
      "outputs": []
    },
    {
      "cell_type": "code",
      "source": [
        "# Install NLTK\n",
        "!pip install nltk\n",
        "nltk.download('punkt')\n",
        "nltk.download('punkt_tab') # Download the punkt_tab resource"
      ],
      "metadata": {
        "colab": {
          "base_uri": "https://localhost:8080/"
        },
        "id": "w0ZaJPbgsOhQ",
        "outputId": "2b628ba2-7ee8-4153-91f5-de2a2a1517da"
      },
      "execution_count": null,
      "outputs": [
        {
          "output_type": "stream",
          "name": "stdout",
          "text": [
            "Requirement already satisfied: nltk in /usr/local/lib/python3.10/dist-packages (3.9.1)\n",
            "Requirement already satisfied: click in /usr/local/lib/python3.10/dist-packages (from nltk) (8.1.7)\n",
            "Requirement already satisfied: joblib in /usr/local/lib/python3.10/dist-packages (from nltk) (1.4.2)\n",
            "Requirement already satisfied: regex>=2021.8.3 in /usr/local/lib/python3.10/dist-packages (from nltk) (2024.11.6)\n",
            "Requirement already satisfied: tqdm in /usr/local/lib/python3.10/dist-packages (from nltk) (4.67.1)\n"
          ]
        },
        {
          "output_type": "stream",
          "name": "stderr",
          "text": [
            "[nltk_data] Downloading package punkt to /root/nltk_data...\n",
            "[nltk_data]   Unzipping tokenizers/punkt.zip.\n",
            "[nltk_data] Downloading package punkt_tab to /root/nltk_data...\n",
            "[nltk_data]   Unzipping tokenizers/punkt_tab.zip.\n"
          ]
        },
        {
          "output_type": "execute_result",
          "data": {
            "text/plain": [
              "True"
            ]
          },
          "metadata": {},
          "execution_count": 3
        }
      ]
    },
    {
      "cell_type": "code",
      "source": [
        "# Sample text corpus (Replace this with your dataset)\n",
        "text_corpus = \"This is a sample text corpus used for N-gram based auto-complete algorithm. N-grams are widely used in NLP tasks like text prediction, translation, and speech recognition.\""
      ],
      "metadata": {
        "id": "Y421cR1vsOdX"
      },
      "execution_count": null,
      "outputs": []
    },
    {
      "cell_type": "code",
      "source": [
        "# Tokenize text\n",
        "tokens = nltk.word_tokenize(text_corpus.lower())\n"
      ],
      "metadata": {
        "id": "ndzKbAa1sOao"
      },
      "execution_count": null,
      "outputs": []
    },
    {
      "cell_type": "code",
      "source": [
        "# Generate N-grams (trigrams in this example)\n",
        "n = 3\n",
        "ngrams_list = list(ngrams(tokens, n))\n"
      ],
      "metadata": {
        "id": "fYx6aNI5sOXd"
      },
      "execution_count": null,
      "outputs": []
    },
    {
      "cell_type": "code",
      "source": [
        "# Build N-gram model\n",
        "model = defaultdict(Counter)\n",
        "for ngram in ngrams_list:\n",
        "    prefix, next_word = tuple(ngram[:-1]), ngram[-1]\n",
        "    model[prefix][next_word] += 1"
      ],
      "metadata": {
        "id": "eoQUX6sssOU1"
      },
      "execution_count": null,
      "outputs": []
    },
    {
      "cell_type": "code",
      "source": [
        "# Function for auto-completion\n",
        "def autocomplete(prefix, n=3):\n",
        "    prefix = tuple(nltk.word_tokenize(prefix.lower()))\n",
        "    if prefix in model:\n",
        "        suggestions = model[prefix].most_common(n)\n",
        "        return [word for word, _ in suggestions]\n",
        "    else:\n",
        "        return [\"No suggestions available\"]"
      ],
      "metadata": {
        "id": "pMM1ZPOYsOSO"
      },
      "execution_count": null,
      "outputs": []
    },
    {
      "cell_type": "code",
      "source": [
        "# Test the auto-complete function\n",
        "input_text = \"N-gram based\"\n",
        "suggestions = autocomplete(input_text)\n",
        "print(f\"Suggestions for '{input_text}':\", suggestions)\n"
      ],
      "metadata": {
        "colab": {
          "base_uri": "https://localhost:8080/"
        },
        "id": "1z6ThXzksucL",
        "outputId": "a55e4862-95a9-4263-f3b1-63a9f68420d7"
      },
      "execution_count": null,
      "outputs": [
        {
          "output_type": "stream",
          "name": "stdout",
          "text": [
            "Suggestions for 'N-gram based': ['auto-complete']\n"
          ]
        }
      ]
    }
  ]
}