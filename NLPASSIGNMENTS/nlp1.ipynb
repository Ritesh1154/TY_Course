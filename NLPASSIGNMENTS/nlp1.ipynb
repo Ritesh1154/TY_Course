{
  "nbformat": 4,
  "nbformat_minor": 0,
  "metadata": {
    "colab": {
      "provenance": []
    },
    "kernelspec": {
      "name": "python3",
      "display_name": "Python 3"
    },
    "language_info": {
      "name": "python"
    }
  },
  "cells": [
    {
      "cell_type": "code",
      "execution_count": null,
      "metadata": {
        "id": "0lCVUWD5eOsm"
      },
      "outputs": [],
      "source": []
    },
    {
      "cell_type": "code",
      "source": [
        "import nltk\n",
        "from nltk.tokenize import word_tokenize, sent_tokenize, TreebankWordTokenizer, TweetTokenizer, MWETokenizer\n",
        "from nltk.stem import PorterStemmer, SnowballStemmer\n",
        "from nltk.stem import WordNetLemmatizer"
      ],
      "metadata": {
        "id": "DVMSnzI7eZWo"
      },
      "execution_count": null,
      "outputs": []
    },
    {
      "cell_type": "code",
      "source": [
        "# Download necessary NLTK data\n",
        "nltk.download('punkt')\n",
        "nltk.download('wordnet')\n",
        "nltk.download('omw-1.4')\n",
        "nltk.download('punkt_tab')"
      ],
      "metadata": {
        "colab": {
          "base_uri": "https://localhost:8080/"
        },
        "id": "TyLgLZBQek6X",
        "outputId": "ee7ccae9-5e23-4f43-9ece-4f11ded7eed8"
      },
      "execution_count": null,
      "outputs": [
        {
          "output_type": "stream",
          "name": "stderr",
          "text": [
            "[nltk_data] Downloading package punkt to /root/nltk_data...\n",
            "[nltk_data]   Unzipping tokenizers/punkt.zip.\n",
            "[nltk_data] Downloading package wordnet to /root/nltk_data...\n",
            "[nltk_data] Downloading package omw-1.4 to /root/nltk_data...\n",
            "[nltk_data] Downloading package punkt_tab to /root/nltk_data...\n",
            "[nltk_data]   Unzipping tokenizers/punkt_tab.zip.\n"
          ]
        },
        {
          "output_type": "execute_result",
          "data": {
            "text/plain": [
              "True"
            ]
          },
          "metadata": {},
          "execution_count": 3
        }
      ]
    },
    {
      "cell_type": "code",
      "source": [
        "#Example text\n",
        "text = \"\"\"The Uniform Civil Code is not just a law; it’s a step towards equality, justice, and unity in a diverse nation like India.\"\"\""
      ],
      "metadata": {
        "id": "UfDnHhtukltZ"
      },
      "execution_count": null,
      "outputs": []
    },
    {
      "cell_type": "code",
      "source": [
        "# 1. Tokenization\n",
        "# Whitespace-based tokenization\n",
        "whitespace_tokens = text.split()\n",
        "whitespace_tokens"
      ],
      "metadata": {
        "colab": {
          "base_uri": "https://localhost:8080/"
        },
        "id": "RzARVJTIkzuQ",
        "outputId": "20698eb1-d6f5-443d-e23c-c12b7027d4c9"
      },
      "execution_count": null,
      "outputs": [
        {
          "output_type": "execute_result",
          "data": {
            "text/plain": [
              "['The',\n",
              " 'Uniform',\n",
              " 'Civil',\n",
              " 'Code',\n",
              " 'is',\n",
              " 'not',\n",
              " 'just',\n",
              " 'a',\n",
              " 'law;',\n",
              " 'it’s',\n",
              " 'a',\n",
              " 'step',\n",
              " 'towards',\n",
              " 'equality,',\n",
              " 'justice,',\n",
              " 'and',\n",
              " 'unity',\n",
              " 'in',\n",
              " 'a',\n",
              " 'diverse',\n",
              " 'nation',\n",
              " 'like',\n",
              " 'India.']"
            ]
          },
          "metadata": {},
          "execution_count": 6
        }
      ]
    },
    {
      "cell_type": "code",
      "source": [
        "# Punctuation-based tokenization using word_tokenize\n",
        "punctuation_tokens = word_tokenize(text)\n",
        "punctuation_tokens"
      ],
      "metadata": {
        "colab": {
          "base_uri": "https://localhost:8080/"
        },
        "id": "eg1iHQFzk-z9",
        "outputId": "fe0c6a11-c1d7-43a5-c10b-27d0f8aac416"
      },
      "execution_count": null,
      "outputs": [
        {
          "output_type": "execute_result",
          "data": {
            "text/plain": [
              "['The',\n",
              " 'Uniform',\n",
              " 'Civil',\n",
              " 'Code',\n",
              " 'is',\n",
              " 'not',\n",
              " 'just',\n",
              " 'a',\n",
              " 'law',\n",
              " ';',\n",
              " 'it',\n",
              " '’',\n",
              " 's',\n",
              " 'a',\n",
              " 'step',\n",
              " 'towards',\n",
              " 'equality',\n",
              " ',',\n",
              " 'justice',\n",
              " ',',\n",
              " 'and',\n",
              " 'unity',\n",
              " 'in',\n",
              " 'a',\n",
              " 'diverse',\n",
              " 'nation',\n",
              " 'like',\n",
              " 'India',\n",
              " '.']"
            ]
          },
          "metadata": {},
          "execution_count": 7
        }
      ]
    },
    {
      "cell_type": "code",
      "source": [
        "# Treebank tokenization\n",
        "treebank_tokenizer = TreebankWordTokenizer()\n",
        "treebank_tokens = treebank_tokenizer.tokenize(text)\n",
        "treebank_tokens"
      ],
      "metadata": {
        "colab": {
          "base_uri": "https://localhost:8080/"
        },
        "id": "nEM7V73IlBFF",
        "outputId": "50b67d23-53d5-424a-f9d8-2c3ddfc3ffcd"
      },
      "execution_count": null,
      "outputs": [
        {
          "output_type": "execute_result",
          "data": {
            "text/plain": [
              "['The',\n",
              " 'Uniform',\n",
              " 'Civil',\n",
              " 'Code',\n",
              " 'is',\n",
              " 'not',\n",
              " 'just',\n",
              " 'a',\n",
              " 'law',\n",
              " ';',\n",
              " 'it’s',\n",
              " 'a',\n",
              " 'step',\n",
              " 'towards',\n",
              " 'equality',\n",
              " ',',\n",
              " 'justice',\n",
              " ',',\n",
              " 'and',\n",
              " 'unity',\n",
              " 'in',\n",
              " 'a',\n",
              " 'diverse',\n",
              " 'nation',\n",
              " 'like',\n",
              " 'India',\n",
              " '.']"
            ]
          },
          "metadata": {},
          "execution_count": 8
        }
      ]
    },
    {
      "cell_type": "code",
      "source": [
        "# Tweet tokenization\n",
        "tweet_tokenizer = TweetTokenizer()\n",
        "tweet_tokens = tweet_tokenizer.tokenize(text)\n",
        "tweet_tokens"
      ],
      "metadata": {
        "colab": {
          "base_uri": "https://localhost:8080/"
        },
        "id": "Xe9r-inqlA6M",
        "outputId": "4d2b90a3-ae2b-4691-f4da-4415642a414c"
      },
      "execution_count": null,
      "outputs": [
        {
          "output_type": "execute_result",
          "data": {
            "text/plain": [
              "['The',\n",
              " 'Uniform',\n",
              " 'Civil',\n",
              " 'Code',\n",
              " 'is',\n",
              " 'not',\n",
              " 'just',\n",
              " 'a',\n",
              " 'law',\n",
              " ';',\n",
              " 'it',\n",
              " '’',\n",
              " 's',\n",
              " 'a',\n",
              " 'step',\n",
              " 'towards',\n",
              " 'equality',\n",
              " ',',\n",
              " 'justice',\n",
              " ',',\n",
              " 'and',\n",
              " 'unity',\n",
              " 'in',\n",
              " 'a',\n",
              " 'diverse',\n",
              " 'nation',\n",
              " 'like',\n",
              " 'India',\n",
              " '.']"
            ]
          },
          "metadata": {},
          "execution_count": 9
        }
      ]
    },
    {
      "cell_type": "code",
      "source": [
        "# Define Multi-Word Expressions\n",
        "mwe_tokenizer = MWETokenizer([('Uniform', 'Civil', 'Code'), ('diverse', 'nation')])\n",
        "\n",
        "# Perform MWE tokenization\n",
        "mwe_tokens = mwe_tokenizer.tokenize(word_tokenize(text))\n",
        "\n",
        "mwe_tokens"
      ],
      "metadata": {
        "colab": {
          "base_uri": "https://localhost:8080/"
        },
        "id": "MCiRmzWclAuk",
        "outputId": "6b6e0255-4c40-4ca8-920f-c15cbd8880ef"
      },
      "execution_count": null,
      "outputs": [
        {
          "output_type": "execute_result",
          "data": {
            "text/plain": [
              "['The',\n",
              " 'Uniform_Civil_Code',\n",
              " 'is',\n",
              " 'not',\n",
              " 'just',\n",
              " 'a',\n",
              " 'law',\n",
              " ';',\n",
              " 'it',\n",
              " '’',\n",
              " 's',\n",
              " 'a',\n",
              " 'step',\n",
              " 'towards',\n",
              " 'equality',\n",
              " ',',\n",
              " 'justice',\n",
              " ',',\n",
              " 'and',\n",
              " 'unity',\n",
              " 'in',\n",
              " 'a',\n",
              " 'diverse_nation',\n",
              " 'like',\n",
              " 'India',\n",
              " '.']"
            ]
          },
          "metadata": {},
          "execution_count": 10
        }
      ]
    },
    {
      "cell_type": "code",
      "source": [
        "# 2. Stemming\n",
        "porter_stemmer = PorterStemmer()\n",
        "snowball_stemmer = SnowballStemmer(\"english\")"
      ],
      "metadata": {
        "id": "YO4tEiiUlAho"
      },
      "execution_count": null,
      "outputs": []
    },
    {
      "cell_type": "code",
      "source": [
        "porter_stems = [porter_stemmer.stem(word) for word in punctuation_tokens]\n",
        "snowball_stems = [snowball_stemmer.stem(word) for word in punctuation_tokens]"
      ],
      "metadata": {
        "id": "DMelHlWSlSF0"
      },
      "execution_count": null,
      "outputs": []
    },
    {
      "cell_type": "code",
      "source": [
        "print(\"\\nPorter Stemmer Results:\", porter_stems)"
      ],
      "metadata": {
        "colab": {
          "base_uri": "https://localhost:8080/"
        },
        "id": "S0M2u_VUlSCT",
        "outputId": "783cda69-b7c9-4654-e2f3-6f89bf78d38c"
      },
      "execution_count": null,
      "outputs": [
        {
          "output_type": "stream",
          "name": "stdout",
          "text": [
            "\n",
            "Porter Stemmer Results: ['the', 'uniform', 'civil', 'code', 'is', 'not', 'just', 'a', 'law', ';', 'it', '’', 's', 'a', 'step', 'toward', 'equal', ',', 'justic', ',', 'and', 'uniti', 'in', 'a', 'divers', 'nation', 'like', 'india', '.']\n"
          ]
        }
      ]
    },
    {
      "cell_type": "code",
      "source": [
        "print(\"Snowball Stemmer Results:\", snowball_stems)"
      ],
      "metadata": {
        "colab": {
          "base_uri": "https://localhost:8080/"
        },
        "id": "RcKG9er1lSAK",
        "outputId": "be5386d3-36f9-40a0-e3e9-fe9b6bfbf7bc"
      },
      "execution_count": null,
      "outputs": [
        {
          "output_type": "stream",
          "name": "stdout",
          "text": [
            "Snowball Stemmer Results: ['the', 'uniform', 'civil', 'code', 'is', 'not', 'just', 'a', 'law', ';', 'it', '’', 's', 'a', 'step', 'toward', 'equal', ',', 'justic', ',', 'and', 'uniti', 'in', 'a', 'divers', 'nation', 'like', 'india', '.']\n"
          ]
        }
      ]
    },
    {
      "cell_type": "code",
      "source": [
        "# 3. Lemmatization\n",
        "lemmatizer = WordNetLemmatizer()\n",
        "lemmatized_words = [lemmatizer.lemmatize(word) for word in punctuation_tokens]"
      ],
      "metadata": {
        "id": "FAFiDSxslR81"
      },
      "execution_count": null,
      "outputs": []
    },
    {
      "cell_type": "code",
      "source": [
        "print(\"\\nLemmatization Results:\", lemmatized_words)"
      ],
      "metadata": {
        "colab": {
          "base_uri": "https://localhost:8080/"
        },
        "id": "L6MZhVbUlb2f",
        "outputId": "badf5918-09d7-41d9-ed89-bd26d987a713"
      },
      "execution_count": null,
      "outputs": [
        {
          "output_type": "stream",
          "name": "stdout",
          "text": [
            "\n",
            "Lemmatization Results: ['The', 'Uniform', 'Civil', 'Code', 'is', 'not', 'just', 'a', 'law', ';', 'it', '’', 's', 'a', 'step', 'towards', 'equality', ',', 'justice', ',', 'and', 'unity', 'in', 'a', 'diverse', 'nation', 'like', 'India', '.']\n"
          ]
        }
      ]
    }
  ]
}